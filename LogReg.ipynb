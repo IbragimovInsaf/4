{
  "cells": [
    {
      "cell_type": "markdown",
      "metadata": {
        "id": "YFtlf_b_3gkr"
      },
      "source": [
        "# Домашняя работа 2. Логистическая регрессия."
      ]
    },
    {
      "cell_type": "markdown",
      "metadata": {
        "id": "WWEHUU7F3gkt"
      },
      "source": [
        "### Оценивание и штрафы\n",
        "\n",
        "Максимальная оценка — 10 баллов. Еще есть 2 бонусных балла, которые можно добавить к любым домашкам или проверочным.\n",
        "\n",
        "Не списывайте, иначе всем участникам обнулим :)"
      ]
    },
    {
      "cell_type": "markdown",
      "metadata": {
        "id": "nMyqzuL33gku"
      },
      "source": [
        "Для удобства проверки самостоятельно посчитайте свою максимальную оценку (исходя из набора решенных задач) и укажите ниже.\n",
        "\n",
        "**Оценка: 9**"
      ]
    },
    {
      "cell_type": "code",
      "execution_count": 133,
      "metadata": {
        "id": "wGNyb-Xo3gku",
        "colab": {
          "base_uri": "https://localhost:8080/"
        },
        "outputId": "16a363b5-bd92-49cb-eb10-0f58e60588a0"
      },
      "outputs": [
        {
          "output_type": "stream",
          "name": "stdout",
          "text": [
            "Всем удачи!👒\n"
          ]
        }
      ],
      "source": [
        "print('Всем удачи!👒')"
      ]
    },
    {
      "cell_type": "code",
      "execution_count": 134,
      "metadata": {
        "id": "hkQkUSqY3gkv"
      },
      "outputs": [],
      "source": [
        "from __future__ import annotations\n",
        "\n",
        "import numpy as np\n",
        "import pandas as pd\n",
        "import matplotlib.pyplot as plt\n",
        "%matplotlib inline\n",
        "\n",
        "pd.set_option('display.max_rows', 100)\n",
        "pd.set_option('display.max_columns', 100)"
      ]
    },
    {
      "cell_type": "markdown",
      "metadata": {
        "id": "kRd7vtmW3gkv"
      },
      "source": [
        "## Часть 1. Логрег своими руками (5.5 балла)"
      ]
    },
    {
      "cell_type": "markdown",
      "metadata": {
        "id": "ay4oVGsD3gkv"
      },
      "source": [
        "**Задание 1 (5 баллов)**. Реализуйте логистическую регрессию, обучаемую с помощью:\n",
        "- градиентного спуска **(2.5 балла)**\n",
        "\n",
        "- стохастического градиентного спуска **(2.5 балла)**\n",
        "\n",
        "Во всех пунктах необходимо соблюдать два условия:\n",
        "- Циклы можно использовать только для итераций градиентного спуска;\n",
        "- В качестве критерия останова необходимо использовать (одновременно):\n",
        "\n",
        "    - проверку на евклидову норму разности весов на двух соседних итерациях (например, меньше некоторого малого числа порядка $10^{-6}$), задаваемого параметром `tolerance`;\n",
        "    - достижение максимального числа итераций (например, 10000), задаваемого параметром `max_iter`.\n",
        "\n",
        "Чтобы проследить, что оптимизационный процесс действительно сходится, добавим атрибут класса `loss_history`. В нём после вызова метода `fit` должны содержаться значения функции потерь для всех итераций градиентного спуска, начиная с нулевой.\n",
        "\n",
        "Инициализировать веса можно случайным образом или нулевым вектором."
      ]
    },
    {
      "cell_type": "code",
      "execution_count": 135,
      "metadata": {
        "id": "W5OOcNAI3gkw"
      },
      "outputs": [],
      "source": [
        "from sklearn.base import BaseEstimator\n",
        "\n",
        "class LogReg(BaseEstimator):\n",
        "    def __init__(self, gd_type: str = 'stochastic', tolerance: float = 1e-4, \n",
        "                 max_iter: int = 1000, eta: float = 1e-2,\n",
        "                 w0: np.array = None) -> None:\n",
        "        \"\"\"\n",
        "        Args:\n",
        "          gd_type: Type of gradient descent ('full' or 'stochastic'). \n",
        "          \n",
        "          tolerance: Threshold for stopping gradient descent.\n",
        "          \n",
        "          max_iter: Maximum number of steps in gradient descent.\n",
        "          \n",
        "          eta: Learning rate.\n",
        "          \n",
        "          w0: Array of shape d (d — number of weights to optimize).\n",
        "              Initial weights.\n",
        "        \"\"\"\n",
        "        self.gd_type = gd_type\n",
        "        self.tolerance = tolerance\n",
        "        self.max_iter = max_iter\n",
        "        self.eta = eta\n",
        "        self.w0 = w0\n",
        "        self.w = None\n",
        "        self.loss_history = None\n",
        "\n",
        "    def fit(self, X: np.array, y: np.array) -> LogReg:\n",
        "        \"\"\"Fit the model on training data. Also, save value of loss after each iteration.\n",
        "        \n",
        "        Args:\n",
        "          X: Training data.\n",
        "          \n",
        "          y: Target.\n",
        "        \n",
        "        Returns: \n",
        "          self: Fitted classsifier.  \n",
        "        \"\"\"\n",
        "        self.w = self.w0\n",
        "        self.loss_history = []    \n",
        "        self.loss_history.append(self.calc_loss(X,y))\n",
        "                \n",
        "        if self.gd_type =='full':\n",
        "          self.w = self.w0 - self.eta*self.calc_gradient(X,y)\n",
        "          for i in range(self.max_iter):\n",
        "            if np.linalg.norm(self.w-self.w0, ord=2)> self.tolerance:\n",
        "              self.w0 = self.w\n",
        "              self.w = self.w - self.eta*self.calc_gradient(X,y)\n",
        "              self.loss_history.append(self.calc_loss(X,y))\n",
        "        else:\n",
        "          r = np.random.randint(len(y))\n",
        "          self.w = self.w0 - self.eta*self.calc_gradient(np.array([X[r, :]]),[y[r]])\n",
        "          for i in range(self.max_iter):\n",
        "            if np.linalg.norm(self.w-self.w0, ord=2)> self.tolerance:\n",
        "              self.w0 = self.w\n",
        "              r = np.random.randint(len(y))            \n",
        "              self.w = self.w - self.eta*self.calc_gradient(np.array([X[r, :]]),[y[r]])\n",
        "              self.loss_history.append(self.calc_loss(X,y))\n",
        "        return self\n",
        "\n",
        "    def sigmoid(self, x):\n",
        "      return 1/(1 + np.exp(-x))\n",
        "    \n",
        "    def predict_proba(self, X: np.array) -> np.array:\n",
        "        \"\"\"Calculate probability of positive and negative class for each observation.\n",
        "        \n",
        "        Args:\n",
        "          X: Array of shape (n, d).\n",
        "             Data.\n",
        "        \n",
        "        Returns: \n",
        "             Array of shape (n, 2).\n",
        "             Predicted probabilities.\n",
        "        \"\"\"\n",
        "  \n",
        "        if self.w is None:\n",
        "            raise Exception('Not trained yet')\n",
        "        return np.array([self.sigmoid(X@self.w),1-self.sigmoid(X@self.w)])\n",
        "        pass\n",
        "    \n",
        "    \n",
        "    def predict(self, X: np.array) -> np.array:\n",
        "        \"\"\"Predict class for each observation.\n",
        "        \n",
        "        Args:\n",
        "          X: Array of shape (n, d).\n",
        "             Data.\n",
        "        \n",
        "        Returns: \n",
        "             Array of shape (n,).\n",
        "             Predicted class labels.  \n",
        "        \"\"\"\n",
        "        if self.w is None:\n",
        "            raise Exception('Not trained yet')\n",
        "        \n",
        "        y_pred = self.predict_proba(X)[0,:]\n",
        "        y_pred[y_pred>0.5] = 1\n",
        "        y_pred[y_pred<=0.5] = 0\n",
        "        \n",
        "        return y_pred\n",
        "        pass\n",
        "    \n",
        "    def calc_gradient(self, X: np.array, y: np.array) -> np.array:\n",
        "        \"\"\"Calculate gradient of loss function after each iteration.\n",
        "        \n",
        "        Args:\n",
        "          X: Array of shape (n, d), n can be equal to 1 if 'stochastic'.\n",
        "          y: Array of shape (n,).\n",
        "        \n",
        "        Returns:\n",
        "          Array of shape (d,).\n",
        "          Gradient of loss function after current iteration.\n",
        "        \"\"\"\n",
        "        Grad = X.T@(self.sigmoid(X@self.w)-np.array(y))\n",
        "        return Grad\n",
        "        pass\n",
        "\n",
        "    def calc_loss(self, X: np.array, y: np.array) -> float:\n",
        "        \"\"\"Calculate value of loss function after each iteration.\n",
        "        \n",
        "        Args:\n",
        "          X: Array of shape (n, d).\n",
        "          y: Array of shape (n,).\n",
        "        \n",
        "        Returns:\n",
        "          Value of loss function after current iteration.\n",
        "        \"\"\" \n",
        "        l = len(y)\n",
        "        S = X @ self.w\n",
        "        Logloss = ((-y).T@np.log(0.00001+self.sigmoid(S))-(1-y).T@np.log(0.00001+1-self.sigmoid(S)))/l\n",
        "        return Logloss\n",
        "        pass"
      ]
    },
    {
      "cell_type": "markdown",
      "metadata": {
        "id": "uJZ3LqWt3gkx"
      },
      "source": [
        "Далее предполагается, что вы используете собственную реализацию логистической регрессии.\n",
        "Если с написанием класса возникли проблемы, используйте реализацию sklearn, чтобы не терять баллы за остальные задания.\n",
        "\n",
        "В части 2 и далее мв бы всем советовали использовать реализацию sklearn."
      ]
    },
    {
      "cell_type": "markdown",
      "metadata": {
        "id": "iqcteaqd3gkx"
      },
      "source": [
        "Сгенерируем синтетические данные."
      ]
    },
    {
      "cell_type": "code",
      "execution_count": 136,
      "metadata": {
        "id": "4tc5vIyq3gkx"
      },
      "outputs": [],
      "source": [
        "from sklearn.datasets import make_classification\n",
        "from sklearn.model_selection import train_test_split\n",
        "\n",
        "X, y = make_classification(\n",
        "    n_samples=10000, n_features=10, n_informative=5, n_redundant=5,\n",
        "    random_state=42)\n",
        "\n",
        "X_train, X_test, y_train, y_test = train_test_split(\n",
        "    X, y, test_size=0.3, random_state=42)"
      ]
    },
    {
      "cell_type": "markdown",
      "metadata": {
        "id": "o-pqZ1vv3gky"
      },
      "source": [
        "**Задание 2 (0.5 балла).** Обучите логистическую регрессию на синтетических данных. Нарисуйте изменение лосса во время обучения."
      ]
    },
    {
      "cell_type": "code",
      "execution_count": 137,
      "metadata": {
        "id": "V1RZOx-d3gky",
        "colab": {
          "base_uri": "https://localhost:8080/",
          "height": 269
        },
        "outputId": "7b113707-9151-46f8-af98-94279418dcd0"
      },
      "outputs": [
        {
          "output_type": "display_data",
          "data": {
            "text/plain": [
              "<Figure size 432x288 with 1 Axes>"
            ],
            "image/png": "[encoded data removed]"
          },
          "metadata": {
            "needs_background": "light"
          }
        }
      ],
      "source": [
        "reg = LogReg(w0=np.ones(10),eta=0.045)\n",
        "\n",
        "reg.fit(X_train,y_train)\n",
        "\n",
        "plt.plot(reg.loss_history)\n",
        "plt.show()"
      ]
    },
    {
      "cell_type": "markdown",
      "metadata": {
        "id": "6gDqV0Mh3gky"
      },
      "source": [
        "На тестовой части посчитайте ROC-AUC, PR-AUC. Постройте ROC и PR кривые."
      ]
    },
    {
      "cell_type": "code",
      "execution_count": 138,
      "metadata": {
        "id": "AWbCetaq3gky",
        "colab": {
          "base_uri": "https://localhost:8080/",
          "height": 573
        },
        "outputId": "e15fcd63-ed5f-41a3-b22c-1bb2f36106ed"
      },
      "outputs": [
        {
          "output_type": "display_data",
          "data": {
            "text/plain": [
              "<Figure size 432x288 with 1 Axes>"
            ],
            "image/png": "[encoded data removed]"
          },
          "metadata": {
            "needs_background": "light"
          }
        },
        {
          "output_type": "display_data",
          "data": {
            "text/plain": [
              "<Figure size 432x288 with 1 Axes>"
            ],
            "image/png": "[encoded data removed]"
          },
          "metadata": {
            "needs_background": "light"
          }
        }
      ],
      "source": [
        "from sklearn.metrics import roc_curve, auc\n",
        "from sklearn. metrics import precision_recall_curve\n",
        "\n",
        "PosProb = reg.predict_proba(X_test)[0,:]\n",
        "\n",
        "\n",
        "fpr, tpr, treshold = roc_curve(y_test,PosProb)\n",
        "roc_auc = auc(fpr, tpr)\n",
        "# строим график\n",
        "plt.plot(fpr, tpr, color='darkorange',\n",
        "         label='ROC кривая (area = %0.2f)' % roc_auc)\n",
        "plt.plot([0, 1], [0, 1], color='navy', linestyle='--')\n",
        "plt.xlim([0.0, 1.0])\n",
        "plt.ylim([0.0, 1.05])\n",
        "plt.xlabel('False Positive Rate')\n",
        "plt.ylabel('True Positive Rate')\n",
        "plt.title('ROC-кривая')\n",
        "plt.legend(loc=\"lower right\")\n",
        "plt.show()\n",
        "\n",
        "precision, recall, threshold = precision_recall_curve(y_test,PosProb)\n",
        "pr_auc = auc(recall,precision)\n",
        "\n",
        "fig, ax = plt.subplots()\n",
        "ax.plot(recall, precision, color='purple',label='Precision-Recall Curve (area = %0.2f)' % pr_auc)\n",
        "plt.legend(loc=\"lower right\")\n",
        "#add axis labels to plot\n",
        "ax.set_title('Precision-Recall Curve')\n",
        "ax.set_ylabel('Precision')\n",
        "ax.set_xlabel('Recall')\n",
        "\n",
        "#display plot\n",
        "plt.show() \n",
        "\n"
      ]
    },
    {
      "cell_type": "markdown",
      "metadata": {
        "id": "8nPEsFiG3gky"
      },
      "source": [
        "## Часть 2. Работа с категориальными признаками (2.5 балла)"
      ]
    },
    {
      "cell_type": "markdown",
      "metadata": {
        "id": "XZGq2XV83gkz"
      },
      "source": [
        "В этой части мы научимся обрабатывать категориальные переменные. Как вы уже знаете, закодировать их в виде столбика чисел недостаточно (это задаёт некоторый порядок, которого на категориальных переменных может и не быть, но модель попробует его выучить). Существует два основных способа обработки категориальных значений:\n",
        "- One-hot-кодирование\n",
        "- Счётчики (CTR, mean-target кодирование, ...) — каждый категориальный признак заменяется на среднее значение целевой переменной по всем объектам, имеющим одинаковое значение в этом признаке.\n",
        "\n",
        "Начнём с one-hot-кодирования. Допустим наш категориальный признак $f_j(x)$ принимает значения из множества $C=\\{c_1, \\dots, c_m\\}$. Заменим его на $m$ бинарных признаков $b_1(x), \\dots, b_m(x)$, каждый из которых является индикатором одного из возможных категориальных значений:\n",
        "$$\n",
        "b_i(x) = [f_j(x) = c_i]\n",
        "$$"
      ]
    },
    {
      "cell_type": "markdown",
      "metadata": {
        "id": "U2GyTL0C3gkz"
      },
      "source": [
        "__Подготовка данных.__\n",
        "\n",
        "Загрузим данные [UCI Bank Marketing Dataset](https://archive.ics.uci.edu/ml/datasets/bank+marketing). Этот датасет содержит информацию о маркетинговой кампании какого-то банка, объектом в нем является телефонный звонок потенциальному клиенту с предложением некоторой услуги (утверждается, что это краткосрочный депозит), целевой переменной — ответ клиента (согласился ли он открыть депозит?). В качестве признакового описания используются характеристики клиента (образование, брак и т.д.), данные о звонке и различные экономические индикаторы — более подробная информация на страничке с датасетом."
      ]
    },
    {
      "cell_type": "code",
      "execution_count": 139,
      "metadata": {
        "id": "Fh-9mQFn3gkz",
        "colab": {
          "base_uri": "https://localhost:8080/"
        },
        "outputId": "57e42e4c-2f4d-490e-f6d7-f98977e23b5c"
      },
      "outputs": [
        {
          "output_type": "stream",
          "name": "stdout",
          "text": [
            "--2022-11-13 19:37:56--  https://archive.ics.uci.edu/ml/machine-learning-databases/00222/bank-additional.zip\n",
            "Resolving archive.ics.uci.edu (archive.ics.uci.edu)... 128.195.10.252\n",
            "Connecting to archive.ics.uci.edu (archive.ics.uci.edu)|128.195.10.252|:443... connected.\n",
            "HTTP request sent, awaiting response... 200 OK\n",
            "Length: 444572 (434K) [application/x-httpd-php]\n",
            "Saving to: ‘bank-additional.zip.5’\n",
            "\n",
            "bank-additional.zip 100%[===================>] 434.15K  1.77MB/s    in 0.2s    \n",
            "\n",
            "2022-11-13 19:37:56 (1.77 MB/s) - ‘bank-additional.zip.5’ saved [444572/444572]\n",
            "\n",
            "Archive:  bank-additional.zip\n",
            "replace bank-additional/.DS_Store? [y]es, [n]o, [A]ll, [N]one, [r]ename: "
          ]
        }
      ],
      "source": [
        "!wget https://archive.ics.uci.edu/ml/machine-learning-databases/00222/bank-additional.zip\n",
        "!unzip bank-additional.zip\n",
        "df = pd.read_csv('bank-additional/bank-additional-full.csv', sep=';')"
      ]
    },
    {
      "cell_type": "code",
      "execution_count": 140,
      "metadata": {
        "id": "cd5GqZIq3gkz",
        "colab": {
          "base_uri": "https://localhost:8080/",
          "height": 206
        },
        "outputId": "04d16251-71db-46e7-a4b4-d9c774f0b617"
      },
      "outputs": [
        {
          "output_type": "execute_result",
          "data": {
            "text/plain": [
              "   age        job  marital    education  default housing loan    contact  \\\n",
              "0   56  housemaid  married     basic.4y       no      no   no  telephone   \n",
              "1   57   services  married  high.school  unknown      no   no  telephone   \n",
              "2   37   services  married  high.school       no     yes   no  telephone   \n",
              "3   40     admin.  married     basic.6y       no      no   no  telephone   \n",
              "4   56   services  married  high.school       no      no  yes  telephone   \n",
              "\n",
              "  month day_of_week  duration  campaign  pdays  previous     poutcome  \\\n",
              "0   may         mon       261         1    999         0  nonexistent   \n",
              "1   may         mon       149         1    999         0  nonexistent   \n",
              "2   may         mon       226         1    999         0  nonexistent   \n",
              "3   may         mon       151         1    999         0  nonexistent   \n",
              "4   may         mon       307         1    999         0  nonexistent   \n",
              "\n",
              "   emp.var.rate  cons.price.idx  cons.conf.idx  euribor3m  nr.employed   y  \n",
              "0           1.1          93.994          -36.4      4.857       5191.0  no  \n",
              "1           1.1          93.994          -36.4      4.857       5191.0  no  \n",
              "2           1.1          93.994          -36.4      4.857       5191.0  no  \n",
              "3           1.1          93.994          -36.4      4.857       5191.0  no  \n",
              "4           1.1          93.994          -36.4      4.857       5191.0  no  "
            ],
            "text/html": [
              "\n",
              "  <div id=\"df-ccf6f0da-c6a8-4a1a-a29b-796363b15a18\">\n",
              "    <div class=\"colab-df-container\">\n",
              "      <div>\n",
              "<style scoped>\n",
              "    .dataframe tbody tr th:only-of-type {\n",
              "        vertical-align: middle;\n",
              "    }\n",
              "\n",
              "    .dataframe tbody tr th {\n",
              "        vertical-align: top;\n",
              "    }\n",
              "\n",
              "    .dataframe thead th {\n",
              "        text-align: right;\n",
              "    }\n",
              "</style>\n",
              "<table border=\"1\" class=\"dataframe\">\n",
              "  <thead>\n",
              "    <tr style=\"text-align: right;\">\n",
              "      <th></th>\n",
              "      <th>age</th>\n",
              "      <th>job</th>\n",
              "      <th>marital</th>\n",
              "      <th>education</th>\n",
              "      <th>default</th>\n",
              "      <th>housing</th>\n",
              "      <th>loan</th>\n",
              "      <th>contact</th>\n",
              "      <th>month</th>\n",
              "      <th>day_of_week</th>\n",
              "      <th>duration</th>\n",
              "      <th>campaign</th>\n",
              "      <th>pdays</th>\n",
              "      <th>previous</th>\n",
              "      <th>poutcome</th>\n",
              "      <th>emp.var.rate</th>\n",
              "      <th>cons.price.idx</th>\n",
              "      <th>cons.conf.idx</th>\n",
              "      <th>euribor3m</th>\n",
              "      <th>nr.employed</th>\n",
              "      <th>y</th>\n",
              "    </tr>\n",
              "  </thead>\n",
              "  <tbody>\n",
              "    <tr>\n",
              "      <th>0</th>\n",
              "      <td>56</td>\n",
              "      <td>housemaid</td>\n",
              "      <td>married</td>\n",
              "      <td>basic.4y</td>\n",
              "      <td>no</td>\n",
              "      <td>no</td>\n",
              "      <td>no</td>\n",
              "      <td>telephone</td>\n",
              "      <td>may</td>\n",
              "      <td>mon</td>\n",
              "      <td>261</td>\n",
              "      <td>1</td>\n",
              "      <td>999</td>\n",
              "      <td>0</td>\n",
              "      <td>nonexistent</td>\n",
              "      <td>1.1</td>\n",
              "      <td>93.994</td>\n",
              "      <td>-36.4</td>\n",
              "      <td>4.857</td>\n",
              "      <td>5191.0</td>\n",
              "      <td>no</td>\n",
              "    </tr>\n",
              "    <tr>\n",
              "      <th>1</th>\n",
              "      <td>57</td>\n",
              "      <td>services</td>\n",
              "      <td>married</td>\n",
              "      <td>high.school</td>\n",
              "      <td>unknown</td>\n",
              "      <td>no</td>\n",
              "      <td>no</td>\n",
              "      <td>telephone</td>\n",
              "      <td>may</td>\n",
              "      <td>mon</td>\n",
              "      <td>149</td>\n",
              "      <td>1</td>\n",
              "      <td>999</td>\n",
              "      <td>0</td>\n",
              "      <td>nonexistent</td>\n",
              "      <td>1.1</td>\n",
              "      <td>93.994</td>\n",
              "      <td>-36.4</td>\n",
              "      <td>4.857</td>\n",
              "      <td>5191.0</td>\n",
              "      <td>no</td>\n",
              "    </tr>\n",
              "    <tr>\n",
              "      <th>2</th>\n",
              "      <td>37</td>\n",
              "      <td>services</td>\n",
              "      <td>married</td>\n",
              "      <td>high.school</td>\n",
              "      <td>no</td>\n",
              "      <td>yes</td>\n",
              "      <td>no</td>\n",
              "      <td>telephone</td>\n",
              "      <td>may</td>\n",
              "      <td>mon</td>\n",
              "      <td>226</td>\n",
              "      <td>1</td>\n",
              "      <td>999</td>\n",
              "      <td>0</td>\n",
              "      <td>nonexistent</td>\n",
              "      <td>1.1</td>\n",
              "      <td>93.994</td>\n",
              "      <td>-36.4</td>\n",
              "      <td>4.857</td>\n",
              "      <td>5191.0</td>\n",
              "      <td>no</td>\n",
              "    </tr>\n",
              "    <tr>\n",
              "      <th>3</th>\n",
              "      <td>40</td>\n",
              "      <td>admin.</td>\n",
              "      <td>married</td>\n",
              "      <td>basic.6y</td>\n",
              "      <td>no</td>\n",
              "      <td>no</td>\n",
              "      <td>no</td>\n",
              "      <td>telephone</td>\n",
              "      <td>may</td>\n",
              "      <td>mon</td>\n",
              "      <td>151</td>\n",
              "      <td>1</td>\n",
              "      <td>999</td>\n",
              "      <td>0</td>\n",
              "      <td>nonexistent</td>\n",
              "      <td>1.1</td>\n",
              "      <td>93.994</td>\n",
              "      <td>-36.4</td>\n",
              "      <td>4.857</td>\n",
              "      <td>5191.0</td>\n",
              "      <td>no</td>\n",
              "    </tr>\n",
              "    <tr>\n",
              "      <th>4</th>\n",
              "      <td>56</td>\n",
              "      <td>services</td>\n",
              "      <td>married</td>\n",
              "      <td>high.school</td>\n",
              "      <td>no</td>\n",
              "      <td>no</td>\n",
              "      <td>yes</td>\n",
              "      <td>telephone</td>\n",
              "      <td>may</td>\n",
              "      <td>mon</td>\n",
              "      <td>307</td>\n",
              "      <td>1</td>\n",
              "      <td>999</td>\n",
              "      <td>0</td>\n",
              "      <td>nonexistent</td>\n",
              "      <td>1.1</td>\n",
              "      <td>93.994</td>\n",
              "      <td>-36.4</td>\n",
              "      <td>4.857</td>\n",
              "      <td>5191.0</td>\n",
              "      <td>no</td>\n",
              "    </tr>\n",
              "  </tbody>\n",
              "</table>\n",
              "</div>\n",
              "      <button class=\"colab-df-convert\" onclick=\"convertToInteractive('df-ccf6f0da-c6a8-4a1a-a29b-796363b15a18')\"\n",
              "              title=\"Convert this dataframe to an interactive table.\"\n",
              "              style=\"display:none;\">\n",
              "        \n",
              "  <svg xmlns=\"http://www.w3.org/2000/svg\" height=\"24px\"viewBox=\"0 0 24 24\"\n",
              "       width=\"24px\">\n",
              "    <path d=\"M0 0h24v24H0V0z\" fill=\"none\"/>\n",
              "    <path d=\"M18.56 5.44l.94 2.06.94-2.06 2.06-.94-2.06-.94-.94-2.06-.94 2.06-2.06.94zm-11 1L8.5 8.5l.94-2.06 2.06-.94-2.06-.94L8.5 2.5l-.94 2.06-2.06.94zm10 10l.94 2.06.94-2.06 2.06-.94-2.06-.94-.94-2.06-.94 2.06-2.06.94z\"/><path d=\"M17.41 7.96l-1.37-1.37c-.4-.4-.92-.59-1.43-.59-.52 0-1.04.2-1.43.59L10.3 9.45l-7.72 7.72c-.78.78-.78 2.05 0 2.83L4 21.41c.39.39.9.59 1.41.59.51 0 1.02-.2 1.41-.59l7.78-7.78 2.81-2.81c.8-.78.8-2.07 0-2.86zM5.41 20L4 18.59l7.72-7.72 1.47 1.35L5.41 20z\"/>\n",
              "  </svg>\n",
              "      </button>\n",
              "      \n",
              "  <style>\n",
              "    .colab-df-container {\n",
              "      display:flex;\n",
              "      flex-wrap:wrap;\n",
              "      gap: 12px;\n",
              "    }\n",
              "\n",
              "    .colab-df-convert {\n",
              "      background-color: #E8F0FE;\n",
              "      border: none;\n",
              "      border-radius: 50%;\n",
              "      cursor: pointer;\n",
              "      display: none;\n",
              "      fill: #1967D2;\n",
              "      height: 32px;\n",
              "      padding: 0 0 0 0;\n",
              "      width: 32px;\n",
              "    }\n",
              "\n",
              "    .colab-df-convert:hover {\n",
              "      background-color: #E2EBFA;\n",
              "      box-shadow: 0px 1px 2px rgba(60, 64, 67, 0.3), 0px 1px 3px 1px rgba(60, 64, 67, 0.15);\n",
              "      fill: #174EA6;\n",
              "    }\n",
              "\n",
              "    [theme=dark] .colab-df-convert {\n",
              "      background-color: #3B4455;\n",
              "      fill: #D2E3FC;\n",
              "    }\n",
              "\n",
              "    [theme=dark] .colab-df-convert:hover {\n",
              "      background-color: #434B5C;\n",
              "      box-shadow: 0px 1px 3px 1px rgba(0, 0, 0, 0.15);\n",
              "      filter: drop-shadow(0px 1px 2px rgba(0, 0, 0, 0.3));\n",
              "      fill: #FFFFFF;\n",
              "    }\n",
              "  </style>\n",
              "\n",
              "      <script>\n",
              "        const buttonEl =\n",
              "          document.querySelector('#df-ccf6f0da-c6a8-4a1a-a29b-796363b15a18 button.colab-df-convert');\n",
              "        buttonEl.style.display =\n",
              "          google.colab.kernel.accessAllowed ? 'block' : 'none';\n",
              "\n",
              "        async function convertToInteractive(key) {\n",
              "          const element = document.querySelector('#df-ccf6f0da-c6a8-4a1a-a29b-796363b15a18');\n",
              "          const dataTable =\n",
              "            await google.colab.kernel.invokeFunction('convertToInteractive',\n",
              "                                                     [key], {});\n",
              "          if (!dataTable) return;\n",
              "\n",
              "          const docLinkHtml = 'Like what you see? Visit the ' +\n",
              "            '<a target=\"_blank\" href=https://colab.research.google.com/notebooks/data_table.ipynb>data table notebook</a>'\n",
              "            + ' to learn more about interactive tables.';\n",
              "          element.innerHTML = '';\n",
              "          dataTable['output_type'] = 'display_data';\n",
              "          await google.colab.output.renderOutput(dataTable, element);\n",
              "          const docLink = document.createElement('div');\n",
              "          docLink.innerHTML = docLinkHtml;\n",
              "          element.appendChild(docLink);\n",
              "        }\n",
              "      </script>\n",
              "    </div>\n",
              "  </div>\n",
              "  "
            ]
          },
          "metadata": {},
          "execution_count": 140
        }
      ],
      "source": [
        "df.head()"
      ]
    },
    {
      "cell_type": "markdown",
      "metadata": {
        "id": "Q9qMgdf93gk0"
      },
      "source": [
        "__Задание 3 (0.5 балла).__ Разделите выборку на обучающую и тестовую в соотношении 3:1. Зафиксируйте `random_state=777`, укажите значение параметра `stratify`. Один из столбцов (помимо таргета :) ) стоит сразу выкинуть из обучающей выборки. Какой? Не отказывайте себе. \n",
        "\n"
      ]
    },
    {
      "cell_type": "code",
      "execution_count": 141,
      "metadata": {
        "id": "oTyLDwnj3gk0",
        "colab": {
          "base_uri": "https://localhost:8080/"
        },
        "outputId": "9a9aa0a8-1a50-4e27-c764-098d877c9ba1"
      },
      "outputs": [
        {
          "output_type": "stream",
          "name": "stdout",
          "text": [
            "<class 'pandas.core.frame.DataFrame'>\n",
            "RangeIndex: 41188 entries, 0 to 41187\n",
            "Data columns (total 21 columns):\n",
            " #   Column          Non-Null Count  Dtype  \n",
            "---  ------          --------------  -----  \n",
            " 0   age             41188 non-null  int64  \n",
            " 1   job             41188 non-null  object \n",
            " 2   marital         41188 non-null  object \n",
            " 3   education       41188 non-null  object \n",
            " 4   default         41188 non-null  object \n",
            " 5   housing         41188 non-null  object \n",
            " 6   loan            41188 non-null  object \n",
            " 7   contact         41188 non-null  object \n",
            " 8   month           41188 non-null  object \n",
            " 9   day_of_week     41188 non-null  object \n",
            " 10  duration        41188 non-null  int64  \n",
            " 11  campaign        41188 non-null  int64  \n",
            " 12  pdays           41188 non-null  int64  \n",
            " 13  previous        41188 non-null  int64  \n",
            " 14  poutcome        41188 non-null  object \n",
            " 15  emp.var.rate    41188 non-null  float64\n",
            " 16  cons.price.idx  41188 non-null  float64\n",
            " 17  cons.conf.idx   41188 non-null  float64\n",
            " 18  euribor3m       41188 non-null  float64\n",
            " 19  nr.employed     41188 non-null  float64\n",
            " 20  y               41188 non-null  object \n",
            "dtypes: float64(5), int64(5), object(11)\n",
            "memory usage: 6.6+ MB\n",
            "age                 78\n",
            "job                 12\n",
            "marital              4\n",
            "education            8\n",
            "default              3\n",
            "housing              3\n",
            "loan                 3\n",
            "contact              2\n",
            "month               10\n",
            "day_of_week          5\n",
            "duration          1544\n",
            "campaign            42\n",
            "pdays               27\n",
            "previous             8\n",
            "poutcome             3\n",
            "emp.var.rate        10\n",
            "cons.price.idx      26\n",
            "cons.conf.idx       26\n",
            "euribor3m          316\n",
            "nr.employed         11\n",
            "y                    2\n",
            "dtype: int64\n"
          ]
        }
      ],
      "source": [
        "\n",
        "df.info()\n",
        "print(df.nunique()) # как видим duration имеет очень большое значение + из информации с датасетом на нем неправаильно обучать\n",
        "\n",
        "df.drop(columns = ['duration'],axis = 1, inplace=True)\n",
        "\n",
        "X_train,X_test,y_train,y_test = train_test_split(df[df.drop(columns = ['y'],axis = 1).columns],df['y'],test_size=0.25, random_state=777,stratify=df['y'])\n"
      ]
    },
    {
      "cell_type": "markdown",
      "metadata": {
        "id": "37sg0Uzx3gk0"
      },
      "source": [
        "Закодируйте категориальные признаки с помощью `OrdinalEncoder`. Посчитайте качество (в этом задании будем работать c `AUC-PR`) при применении логистической регрессии. Здесь и далее для реализации последовательности этих действий (обработка признаков + обучение модели) используйте пайплайны. Замерьте время, потребовавшееся на обучение модели (с учетом кодирования признаков).\n",
        "\n",
        "__Вопрос__: почему в данном задании мы выбрали метрикой именно `AUC-PR`, а не, к примеру, `AUC-ROC`?\n",
        "\n",
        "__Ваш ответ__: Пользуемся AUC-PR, так как Precision и recall слабо зависят от соотношения классов и применимы для дисбалансных выборок."
      ]
    },
    {
      "cell_type": "code",
      "source": [
        "from sklearn.linear_model import LogisticRegression\n",
        "from sklearn.preprocessing import OneHotEncoder\n",
        "from sklearn.preprocessing import OrdinalEncoder "
      ],
      "metadata": {
        "id": "FFhAha2m3JgF"
      },
      "execution_count": 142,
      "outputs": []
    },
    {
      "cell_type": "code",
      "execution_count": 143,
      "metadata": {
        "id": "4lm-XODY3gk0",
        "colab": {
          "base_uri": "https://localhost:8080/",
          "height": 469
        },
        "outputId": "ace4849b-018c-4542-f829-f508f604f35c"
      },
      "outputs": [
        {
          "output_type": "stream",
          "name": "stderr",
          "text": [
            "/usr/local/lib/python3.7/dist-packages/sklearn/linear_model/_logistic.py:818: ConvergenceWarning: lbfgs failed to converge (status=1):\n",
            "STOP: TOTAL NO. of ITERATIONS REACHED LIMIT.\n",
            "\n",
            "Increase the number of iterations (max_iter) or scale the data as shown in:\n",
            "    https://scikit-learn.org/stable/modules/preprocessing.html\n",
            "Please also refer to the documentation for alternative solver options:\n",
            "    https://scikit-learn.org/stable/modules/linear_model.html#logistic-regression\n",
            "  extra_warning_msg=_LOGISTIC_SOLVER_CONVERGENCE_MSG,\n"
          ]
        },
        {
          "output_type": "display_data",
          "data": {
            "text/plain": [
              "<Figure size 432x288 with 1 Axes>"
            ],
            "image/png": "[encoded data removed]"
          },
          "metadata": {
            "needs_background": "light"
          }
        },
        {
          "output_type": "stream",
          "name": "stdout",
          "text": [
            "CPU times: user 1.12 s, sys: 576 ms, total: 1.69 s\n",
            "Wall time: 993 ms\n"
          ]
        }
      ],
      "source": [
        "%%time\n",
        "types = X_train.dtypes\n",
        "col = types[types[:,]=='object'].index\n",
        "\n",
        "# X_train\n",
        "enc_1 = OrdinalEncoder()\n",
        "enc_1.fit(df[df.drop(columns = ['y'],axis = 1).columns][col])\n",
        "\n",
        "data_1 = pd.DataFrame(enc_1.transform(X_train[col]))\n",
        "\n",
        "\n",
        "\n",
        "#склейка таблиц:\n",
        "data_0 = np.concatenate((np.array(X_train.drop(columns = col,axis = 1)),np.array(data_1)),axis=1)\n",
        "\n",
        "# X_test\n",
        "types_2 = X_test.dtypes\n",
        "col_1 = types_2[types_2[:,]=='object'].index\n",
        "\n",
        "data_2 = pd.DataFrame(enc_1.transform(X_test[col_1]))\n",
        "\n",
        "#склейка таблиц:\n",
        "data_0_test = np.concatenate((np.array(X_test.drop(columns = col_1,axis = 1)),np.array(data_2)),axis=1)\n",
        "\n",
        "#таргеты\n",
        "enc3 = OrdinalEncoder()\n",
        "\n",
        "y_train = enc3.fit_transform(np.array(y_train).reshape(-1, 1)).T[0]\n",
        "y_test = enc3.fit_transform(np.array(y_test).reshape(-1, 1)).T[0]\n",
        "\n",
        "logreg_2 = LogisticRegression()\n",
        "logreg_2.fit(np.array(data_0),y_train)\n",
        "\n",
        "PosProb = logreg_2.predict_proba(data_0_test)[:,0]\n",
        "\n",
        "precision, recall, threshold = precision_recall_curve(y_test, PosProb)\n",
        "pr_auc = auc(recall,precision)\n",
        "\n",
        "fig, ax = plt.subplots()\n",
        "ax.plot(recall, precision, color='purple',label='Precision-Recall Curve (area = %0.2f)' % pr_auc)\n",
        "plt.legend(loc=\"lower right\")\n",
        "\n",
        "ax.set_title('Precision-Recall Curve')\n",
        "ax.set_ylabel('Precision')\n",
        "ax.set_xlabel('Recall')\n",
        "plt.show()\n"
      ]
    },
    {
      "cell_type": "markdown",
      "metadata": {
        "id": "8xlcMeoQ3gk0"
      },
      "source": [
        "__Задание 4 (0.5 балла).__ Закодируйте все категориальные признаки с помощью one-hot-кодирования. Обучите логистическую регрессию и посмотрите, как изменилось качество модели. Измерьте время, потребовавшееся на кодирование категориальных признаков и обучение модели.\n",
        "\n"
      ]
    },
    {
      "cell_type": "code",
      "execution_count": 144,
      "metadata": {
        "id": "9HAjsFKU3gk1",
        "colab": {
          "base_uri": "https://localhost:8080/",
          "height": 575
        },
        "outputId": "54a93860-2407-4c3b-c821-6bfbd7156936"
      },
      "outputs": [
        {
          "output_type": "stream",
          "name": "stderr",
          "text": [
            "/usr/local/lib/python3.7/dist-packages/ipykernel_launcher.py:8: VisibleDeprecationWarning: Creating an ndarray from ragged nested sequences (which is a list-or-tuple of lists-or-tuples-or ndarrays with different lengths or shapes) is deprecated. If you meant to do this, you must specify 'dtype=object' when creating the ndarray.\n",
            "  \n",
            "/usr/local/lib/python3.7/dist-packages/ipykernel_launcher.py:23: VisibleDeprecationWarning: Creating an ndarray from ragged nested sequences (which is a list-or-tuple of lists-or-tuples-or ndarrays with different lengths or shapes) is deprecated. If you meant to do this, you must specify 'dtype=object' when creating the ndarray.\n",
            "/usr/local/lib/python3.7/dist-packages/sklearn/linear_model/_logistic.py:818: ConvergenceWarning: lbfgs failed to converge (status=1):\n",
            "STOP: TOTAL NO. of ITERATIONS REACHED LIMIT.\n",
            "\n",
            "Increase the number of iterations (max_iter) or scale the data as shown in:\n",
            "    https://scikit-learn.org/stable/modules/preprocessing.html\n",
            "Please also refer to the documentation for alternative solver options:\n",
            "    https://scikit-learn.org/stable/modules/linear_model.html#logistic-regression\n",
            "  extra_warning_msg=_LOGISTIC_SOLVER_CONVERGENCE_MSG,\n",
            "/usr/local/lib/python3.7/dist-packages/sklearn/base.py:444: UserWarning: X has feature names, but LogisticRegression was fitted without feature names\n",
            "  f\"X has feature names, but {self.__class__.__name__} was fitted without\"\n"
          ]
        },
        {
          "output_type": "display_data",
          "data": {
            "text/plain": [
              "<Figure size 432x288 with 1 Axes>"
            ],
            "image/png": "[encoded data removed]"
          },
          "metadata": {
            "needs_background": "light"
          }
        },
        {
          "output_type": "stream",
          "name": "stdout",
          "text": [
            "CPU times: user 1.69 s, sys: 584 ms, total: 2.27 s\n",
            "Wall time: 1.34 s\n"
          ]
        }
      ],
      "source": [
        "%%time\n",
        "types = X_train.dtypes\n",
        "col = types[types[:,]=='object'].index\n",
        "\n",
        "# X_train\n",
        "enc_1 = OneHotEncoder(handle_unknown='ignore')\n",
        "enc_1.fit(df[df.drop(columns = ['y'],axis = 1).columns][col])\n",
        "\n",
        "names = np.concatenate(np.array(enc_1.categories_))\n",
        "data_1 = pd.DataFrame(enc_1.transform(X_train[col]).toarray())\n",
        "data_1.columns = names\n",
        "\n",
        "#склейка таблиц:\n",
        "data_1.loc[:, \"N\"] = np.arange(0,len(data_1),1)\n",
        "dat = X_train.drop(columns = col,axis = 1)\n",
        "dat.loc[:, \"N\"] = np.arange(0,len(data_1),1)\n",
        "data_0 = dat.merge(data_1,left_on='N', right_on='N',how=\"outer\")\n",
        "data_0.drop(columns = ['N'],axis = 1,inplace=True)\n",
        "\n",
        "# X_test\n",
        "types_2 = X_test.dtypes\n",
        "col_1 = types_2[types_2[:,]=='object'].index\n",
        "\n",
        "names_2 = np.concatenate(np.array(enc_1.categories_))\n",
        "data_2 = pd.DataFrame(enc_1.transform(X_test[col_1]).toarray())\n",
        "data_2.columns = names_2\n",
        "\n",
        "#склейка таблиц:\n",
        "data_2.loc[:, \"N\"] = np.arange(0,len(data_2),1)\n",
        "dat_2 = X_test.drop(columns = col_1,axis = 1)\n",
        "dat_2.loc[:, \"N\"] = np.arange(0,len(data_2),1)\n",
        "data_0_test = dat_2.merge(data_2,left_on='N', right_on='N',how=\"outer\")\n",
        "data_0_test.drop(columns = ['N'],axis = 1,inplace=True)\n",
        "\n",
        "\n",
        "#таргеты\n",
        "enc3 = OneHotEncoder(handle_unknown='ignore', sparse=False)\n",
        "\n",
        "y_train = enc3.fit_transform(np.array(y_train).reshape(-1, 1)).T[0]\n",
        "y_test = enc3.fit_transform(np.array(y_test).reshape(-1, 1)).T[0]\n",
        "\n",
        "logreg_2 = LogisticRegression()\n",
        "logreg_2.fit(np.array(data_0),y_train)\n",
        "\n",
        "PosProb = logreg_2.predict_proba(data_0_test)[:,0]\n",
        "\n",
        "precision, recall, threshold = precision_recall_curve(y_test, PosProb)\n",
        "pr_auc = auc(recall,precision)\n",
        "\n",
        "fig, ax = plt.subplots()\n",
        "ax.plot(recall, precision, color='purple',label='Precision-Recall Curve (area = %0.3f)' % pr_auc)\n",
        "plt.legend(loc=\"lower right\")\n",
        "#add axis labels to plot\n",
        "ax.set_title('Precision-Recall Curve')\n",
        "ax.set_ylabel('Precision')\n",
        "ax.set_xlabel('Recall')\n",
        "\n",
        "#display plot\n",
        "plt.show()\n"
      ]
    },
    {
      "cell_type": "markdown",
      "source": [
        "Время сильно возросло, так как увеличилось количество признаков."
      ],
      "metadata": {
        "id": "YwLgMbIJaL44"
      }
    },
    {
      "cell_type": "markdown",
      "metadata": {
        "id": "h1BnIRxd3gk1"
      },
      "source": [
        "Как можно было заменить, one-hot-кодирование может сильно увеличивать количество признаков в датасете, что сказывается на памяти, особенно, если некоторый признак имеет большое количество значений. Эту проблему решает другой способ кодирования категориальных признаков — счётчики. Основная идея в том, что нам важны не сами категории, а значения целевой переменной, которые имеют объекты этой категории. Каждый категориальный признак мы заменим средним значением целевой переменной по всем объектам этой же категории:\n",
        "$$\n",
        "g_j(x, X) = \\frac{\\sum_{i=1}^{l} [f_j(x) = f_j(x_i)][y_i = +1]}{\\sum_{i=1}^{l} [f_j(x) = f_j(x_i)]}\n",
        "$$\n",
        "\n",
        "__Задание 5 (0.5 балла).__ Закодируйте категориальные переменные с помощью счётчиков (ровно так, как описано выше без каких-либо хитростей). Обучите логистическую регрессию и посмотрите на качество модели на тестовом множестве. Сравните время обучения с предыдущими экспериментами (с учетом кодирования признаков). Заметили ли вы что-то интересное?"
      ]
    },
    {
      "cell_type": "code",
      "source": [
        "%%time\n",
        "types = X_train.dtypes\n",
        "col = types[types[:,]=='object'].index\n",
        "data_1 = pd.DataFrame([])\n",
        "data_2 = pd.DataFrame([])\n",
        "\n",
        "for c in col:\n",
        "  c_train = np.array(X_train[c])\n",
        "  unic = {}\n",
        "  for i in range(len(c_train)):\n",
        "    elem = c_train[i]\n",
        "    if elem not in unic:\n",
        "      unic[elem] = 1\n",
        "      unic['sum'+elem] = y_train[i]\n",
        "    else:\n",
        "      unic[elem] +=1\n",
        "      unic['sum'+elem] += y_train[i]\n",
        "  for i in range(len(c_train)):\n",
        "    elem = c_train[i]\n",
        "    c_train[i] = unic['sum'+elem]/unic[elem]\n",
        "  data_1[c] = c_train\n",
        "  #test\n",
        "  c_test = np.array(X_test[c])\n",
        "  unic = {}\n",
        "  for i in range(len(c_test)):\n",
        "    elem = c_test[i]\n",
        "    if elem not in unic:\n",
        "      unic[elem] = 1\n",
        "      unic['sum'+elem] = y_test[i]\n",
        "    else:\n",
        "      unic[elem] +=1\n",
        "      unic['sum'+elem] += y_test[i]\n",
        "  for i in range(len(c_test)):\n",
        "    elem = c_test[i]\n",
        "    c_test[i] = unic['sum'+elem]/unic[elem]\n",
        "  data_2[c] = c_test\n",
        "\n",
        "\n",
        "data_0 = np.concatenate((np.array(X_train.drop(columns = col,axis = 1)),np.array(data_1)),axis=1)\n",
        "data_0_test = np.concatenate((np.array(X_test.drop(columns = col,axis = 1)),np.array(data_2)),axis=1)\n",
        "\n",
        "logreg_3 = LogisticRegression()\n",
        "logreg_3.fit(np.array(data_0),y_train)\n",
        "\n",
        "PosProb = logreg_3.predict_proba(data_0_test)[:,0]\n",
        "\n",
        "precision, recall, threshold = precision_recall_curve(y_test, PosProb)\n",
        "pr_auc = auc(recall,precision)\n",
        "\n",
        "fig, ax = plt.subplots()\n",
        "ax.plot(recall, precision, color='purple',label='Precision-Recall Curve (area = %0.4f)' % pr_auc)\n",
        "plt.legend(loc=\"lower right\")\n",
        "#add axis labels to plot\n",
        "ax.set_title('Precision-Recall Curve')\n",
        "ax.set_ylabel('Precision')\n",
        "ax.set_xlabel('Recall')\n",
        "\n",
        "#display plot\n",
        "plt.show()"
      ],
      "metadata": {
        "colab": {
          "base_uri": "https://localhost:8080/",
          "height": 469
        },
        "id": "tWOM4iSl4kQj",
        "outputId": "9e4b2c6f-565a-400b-f913-07a146180719"
      },
      "execution_count": 145,
      "outputs": [
        {
          "output_type": "stream",
          "name": "stderr",
          "text": [
            "/usr/local/lib/python3.7/dist-packages/sklearn/linear_model/_logistic.py:818: ConvergenceWarning: lbfgs failed to converge (status=1):\n",
            "STOP: TOTAL NO. of ITERATIONS REACHED LIMIT.\n",
            "\n",
            "Increase the number of iterations (max_iter) or scale the data as shown in:\n",
            "    https://scikit-learn.org/stable/modules/preprocessing.html\n",
            "Please also refer to the documentation for alternative solver options:\n",
            "    https://scikit-learn.org/stable/modules/linear_model.html#logistic-regression\n",
            "  extra_warning_msg=_LOGISTIC_SOLVER_CONVERGENCE_MSG,\n"
          ]
        },
        {
          "output_type": "display_data",
          "data": {
            "text/plain": [
              "<Figure size 432x288 with 1 Axes>"
            ],
            "image/png": "[encoded data removed]"
          },
          "metadata": {
            "needs_background": "light"
          }
        },
        {
          "output_type": "stream",
          "name": "stdout",
          "text": [
            "CPU times: user 1.69 s, sys: 565 ms, total: 2.25 s\n",
            "Wall time: 1.56 s\n"
          ]
        }
      ]
    },
    {
      "cell_type": "markdown",
      "source": [
        "Время на обучение + персчет сопоставимо с one-hot кодированием, при этом метрика стала чуть лучше. Изначально предполагал, что время будет меньше, однако пересчет данных оказался сопоставимым по времени с one-hot."
      ],
      "metadata": {
        "id": "KyWBoFNobk9C"
      }
    },
    {
      "cell_type": "markdown",
      "metadata": {
        "id": "5bvTv5QW3gk1"
      },
      "source": [
        "Отметим, что такие признаки сами по себе являются классификаторами и, обучаясь на них, мы допускаем «утечку» целевой переменной в признаки. Это ведёт к переобучению, поэтому считать такие признаки необходимо таким образом, чтобы при вычислении счетчика для конкретного объекта его целевая метка не использовалась. Это можно делать следующими способами:\n",
        "1. Вычислять значение счётчика по всем объектам расположенным выше в датасете (например, если у нас выборка отсортирована по времени).\n",
        "2. Вычислять по фолдам, то есть делить выборку на некоторое количество частей и подсчитывать значение признаков по всем фолдам кроме текущего (как делается в кросс-валидации).\n",
        "3. Вносить шум в посчитанные признаки. \n",
        "\n",
        "__Задание 6 (0.5 балла).__ Реализуйте корректное вычисление счётчиков самым простым способом — добавлением шума к значениям (постарайтесь найти баланс между борьбой с переобучением и сохранением полезности признаков). Снова обучите логистическую регрессию, оцените качество. Сделайте выводы.\n",
        "Какие плюсы и минусы использования счётчиков по сравнению с one-hot-кодированием можно отметить?"
      ]
    },
    {
      "cell_type": "code",
      "source": [
        "a = 0.5\n",
        "data_1 = np.array(data_1)\n",
        "data_2 = np.array(data_2)\n",
        "for j in range(len(data_1)):\n",
        "  for i in range(len(data_1[0])):\n",
        "    data_1[j,i] += np.random.uniform(-a, a)\n",
        "for j in range(len(data_2)):\n",
        "  for i in range(len(data_2[0])):\n",
        "    data_2[j,i] += np.random.uniform(-a, a)\n",
        "\n",
        "data_0 = np.concatenate((np.array(X_train.drop(columns = col,axis = 1)),np.array(data_1)),axis=1)\n",
        "data_0_test = np.concatenate((np.array(X_test.drop(columns = col,axis = 1)),np.array(data_2)),axis=1)\n",
        "\n",
        "\n",
        "logreg_4 = LogisticRegression()\n",
        "logreg_4.fit(np.array(data_0),y_train)\n",
        "\n",
        "PosProb = logreg_4.predict_proba(data_0_test)[:,0]\n",
        "\n",
        "precision, recall, threshold = precision_recall_curve(y_test,PosProb)\n",
        "pr_auc = auc(recall,precision)\n",
        "\n",
        "fig, ax = plt.subplots()\n",
        "ax.plot(recall, precision, color='purple',label='Precision-Recall Curve (area = %0.4f)' % pr_auc)\n",
        "plt.legend(loc=\"lower right\")\n",
        "\n",
        "ax.set_title('Precision-Recall Curve')\n",
        "ax.set_ylabel('Precision')\n",
        "ax.set_xlabel('Recall')\n",
        "plt.show() \n",
        "print(data_0)"
      ],
      "metadata": {
        "colab": {
          "base_uri": "https://localhost:8080/",
          "height": 660
        },
        "id": "43u5rpTZ10w2",
        "outputId": "c817ad39-83fb-4f0d-ce64-6f5894ae41e6"
      },
      "execution_count": 146,
      "outputs": [
        {
          "output_type": "stream",
          "name": "stderr",
          "text": [
            "/usr/local/lib/python3.7/dist-packages/sklearn/linear_model/_logistic.py:818: ConvergenceWarning: lbfgs failed to converge (status=1):\n",
            "STOP: TOTAL NO. of ITERATIONS REACHED LIMIT.\n",
            "\n",
            "Increase the number of iterations (max_iter) or scale the data as shown in:\n",
            "    https://scikit-learn.org/stable/modules/preprocessing.html\n",
            "Please also refer to the documentation for alternative solver options:\n",
            "    https://scikit-learn.org/stable/modules/linear_model.html#logistic-regression\n",
            "  extra_warning_msg=_LOGISTIC_SOLVER_CONVERGENCE_MSG,\n"
          ]
        },
        {
          "output_type": "display_data",
          "data": {
            "text/plain": [
              "<Figure size 432x288 with 1 Axes>"
            ],
            "image/png": "[encoded data removed]"
          },
          "metadata": {
            "needs_background": "light"
          }
        },
        {
          "output_type": "stream",
          "name": "stdout",
          "text": [
            "[[33.0 7.0 999.0 ... 0.6380998649603975 0.7131489496370309\n",
            "  0.8079356212330825]\n",
            " [32.0 1.0 999.0 ... 0.4609763993766648 1.2984138866187829\n",
            "  0.8571449380228212]\n",
            " [27.0 1.0 999.0 ... 0.6221781757015014 0.8291393463449591\n",
            "  1.0042209342135904]\n",
            " ...\n",
            " [39.0 5.0 999.0 ... 1.0794850053261502 0.6493475084052435\n",
            "  1.1652131215792854]\n",
            " [42.0 1.0 999.0 ... 0.5084602173704992 1.1470513971773237\n",
            "  0.781533870239672]\n",
            " [47.0 3.0 999.0 ... 0.9142380824758385 0.7130520422749139\n",
            "  0.9652163251432906]]\n"
          ]
        }
      ]
    },
    {
      "cell_type": "markdown",
      "source": [
        "Счетчики занимают меньше памяти,модель по идее быстрее обучается, но дольше пересчитывается. One-hot чуть быстрее, незначительно хуже метрика, долго происходит обучение за счет большого количества признаков."
      ],
      "metadata": {
        "id": "-JgYeI6RdBar"
      }
    },
    {
      "cell_type": "markdown",
      "metadata": {
        "id": "ShxtCZAR3gk1"
      },
      "source": [
        "__Задание 7 (0.5 балла).__ В данных имеется признак «возраст клиента». Сейчас мы интерпретируем его как числовой, что в общем случае для линейной модели может быть неверной гипотезой. Тем не менее, у этого признака есть довольно много уникальных значений (сколько?), поэтому применять к нему one-hot кодирование может оказаться излишним. Попробуйте закодировать возраст с помощью счетчиков. Стало ли лучше?\n",
        "\n"
      ]
    },
    {
      "cell_type": "code",
      "source": [
        "#train\n",
        "Age_train = np.array(X_train.age,dtype=float)\n",
        "unic = {}\n",
        "for i in range(len(Age_train)):\n",
        "  elem = Age_train[i]\n",
        "  if elem not in unic:\n",
        "    unic[elem] = 1\n",
        "    unic[-elem] = y_train[i]\n",
        "  else:\n",
        "    unic[elem] +=1\n",
        "    unic[-elem] += y_train[i]\n",
        "for i in range(len(Age_train)):\n",
        "  elem = Age_train[i]\n",
        "  Age_train[i] = unic[-elem]/unic[elem]\n",
        "\n",
        "#test\n",
        "Age_test = np.array(X_test.age,dtype=float)\n",
        "unic = {}\n",
        "for i in range(len(Age_test)):\n",
        "  elem = Age_test[i]\n",
        "  if elem not in unic:\n",
        "    unic[elem] = 1\n",
        "    unic[-elem] = y_test[i]\n",
        "  else:\n",
        "    unic[elem] +=1\n",
        "    unic[-elem] += y_test[i]\n",
        "for i in range(len(Age_test)):\n",
        "  elem = Age_test[i]\n",
        "  Age_test[i] = unic[-elem]/unic[elem]\n",
        "\n",
        "col = col.append(pd.Index(['age'])) \n",
        "\n",
        "data_0 = np.concatenate((np.array(X_train.drop(columns = col,axis = 1)),data_1),axis=1)\n",
        "data_0 = np.column_stack((data_0, Age_train.T))\n",
        "data_0_test = np.concatenate((np.array(X_test.drop(columns = col,axis = 1)),data_2),axis=1)\n",
        "data_0_test = np.column_stack((data_0_test, Age_test.T))\n",
        "print(pd.unique(df.age))\n",
        "print(len(pd.unique(df.age))) # уникальных значений\n"
      ],
      "metadata": {
        "id": "ggZs5QN9BmVm",
        "colab": {
          "base_uri": "https://localhost:8080/"
        },
        "outputId": "5b689be8-a437-48ca-943b-4ddf53e32384"
      },
      "execution_count": 147,
      "outputs": [
        {
          "output_type": "stream",
          "name": "stdout",
          "text": [
            "[56 57 37 40 45 59 41 24 25 29 35 54 46 50 39 30 55 49 34 52 58 32 38 44\n",
            " 42 60 53 47 51 48 33 31 43 36 28 27 26 22 23 20 21 61 19 18 70 66 76 67\n",
            " 73 88 95 77 68 75 63 80 62 65 72 82 64 71 69 78 85 79 83 81 74 17 87 91\n",
            " 86 98 94 84 92 89]\n",
            "78\n"
          ]
        }
      ]
    },
    {
      "cell_type": "code",
      "execution_count": 148,
      "metadata": {
        "id": "Fkfj22kH3gk2",
        "colab": {
          "base_uri": "https://localhost:8080/",
          "height": 295
        },
        "outputId": "96a4e438-a702-4825-8a72-09ba8744bc4c"
      },
      "outputs": [
        {
          "output_type": "display_data",
          "data": {
            "text/plain": [
              "<Figure size 432x288 with 1 Axes>"
            ],
            "image/png": "[encoded data removed]"
          },
          "metadata": {
            "needs_background": "light"
          }
        }
      ],
      "source": [
        "logreg_5 = LogisticRegression()\n",
        "logreg_5.fit(np.array(data_0),y_train)\n",
        "\n",
        "PosProb = logreg_5.predict_proba(data_0_test)[:,0]\n",
        "\n",
        "precision, recall, threshold = precision_recall_curve(y_test, PosProb)\n",
        "pr_auc = auc(recall,precision)\n",
        "\n",
        "fig, ax = plt.subplots()\n",
        "ax.plot(recall, precision, color='purple',label='Precision-Recall Curve (area = %0.4f)' % pr_auc)\n",
        "plt.legend(loc=\"lower right\")\n",
        "#add axis labels to plot\n",
        "ax.set_title('Precision-Recall Curve')\n",
        "ax.set_ylabel('Precision')\n",
        "ax.set_xlabel('Recall')\n",
        "\n",
        "#display plot\n",
        "plt.show()"
      ]
    },
    {
      "cell_type": "markdown",
      "source": [
        "Стало чуть лучше."
      ],
      "metadata": {
        "id": "HkWy0XxpeKOz"
      }
    },
    {
      "cell_type": "markdown",
      "metadata": {
        "id": "FTagRmQu3gk2"
      },
      "source": [
        "Можно пойти и в обратную сторону. У нас есть признаки «месяц и день недели» для звонка. Попробуйте интерпретировать их как числовые (месяц от 0 до 12, дни недели от 0 до 4). Стало ли лучше в этот раз?"
      ]
    },
    {
      "cell_type": "code",
      "execution_count": 149,
      "metadata": {
        "id": "nDhDdGc33gk2",
        "colab": {
          "base_uri": "https://localhost:8080/",
          "height": 434
        },
        "outputId": "54dc02fd-316f-4a93-e2f9-d07d8935af4b"
      },
      "outputs": [
        {
          "output_type": "stream",
          "name": "stderr",
          "text": [
            "/usr/local/lib/python3.7/dist-packages/sklearn/linear_model/_logistic.py:818: ConvergenceWarning: lbfgs failed to converge (status=1):\n",
            "STOP: TOTAL NO. of ITERATIONS REACHED LIMIT.\n",
            "\n",
            "Increase the number of iterations (max_iter) or scale the data as shown in:\n",
            "    https://scikit-learn.org/stable/modules/preprocessing.html\n",
            "Please also refer to the documentation for alternative solver options:\n",
            "    https://scikit-learn.org/stable/modules/linear_model.html#logistic-regression\n",
            "  extra_warning_msg=_LOGISTIC_SOLVER_CONVERGENCE_MSG,\n"
          ]
        },
        {
          "output_type": "display_data",
          "data": {
            "text/plain": [
              "<Figure size 432x288 with 1 Axes>"
            ],
            "image/png": "[encoded data removed]"
          },
          "metadata": {
            "needs_background": "light"
          }
        }
      ],
      "source": [
        "mon_train = np.array(X_train.month)\n",
        "day_train = np.array(X_train.day_of_week)\n",
        "mon_test = np.array(X_test.month)\n",
        "day_test = np.array(X_test.day_of_week)\n",
        "dict_m ={}\n",
        "dict_day = {}\n",
        "\n",
        "month = np.array(pd.unique(df.month))\n",
        "day_of_week = np.array(pd.unique(df.day_of_week))\n",
        "\n",
        "for i in range(len(month)):\n",
        "  dict_m[month[i]] = i\n",
        "for i in range(len(day_of_week)):\n",
        "  dict_day[day_of_week[i]] = i\n",
        "\n",
        "for i in range(len(mon_train)):\n",
        "  mon_train[i] = dict_m[mon_train[i]]\n",
        "for i in range(len(day_train)):\n",
        "  day_train[i] = dict_day[day_train[i]]\n",
        "\n",
        "for i in range(len(month)):\n",
        "  dict_m[month[i]] = i\n",
        "for i in range(len(day_of_week)):\n",
        "  dict_day[day_of_week[i]] = i\n",
        "\n",
        "for i in range(len(mon_test)):\n",
        "  mon_test[i] = dict_m[mon_test[i]]\n",
        "for i in range(len(day_test)):\n",
        "  day_test[i] = dict_day[day_test[i]]\n",
        "\n",
        "col = types[types[:,]=='object'].index\n",
        "col = col.append(pd.Index(['month','day_of_week'])) \n",
        "\n",
        "data_0 = np.concatenate((np.array(X_train.drop(columns = col,axis = 1)),data_1),axis=1)\n",
        "data_0 = np.column_stack((data_0, mon_train.T, day_train.T))\n",
        "data_0_test = np.concatenate((np.array(X_test.drop(columns = col,axis = 1)),data_2),axis=1)\n",
        "data_0_test = np.column_stack((data_0_test, mon_test.T, day_test.T))\n",
        "\n",
        "logreg_5 = LogisticRegression()\n",
        "logreg_5.fit(np.array(data_0),y_train)\n",
        "\n",
        "PosProb = logreg_5.predict_proba(data_0_test)[:,0]\n",
        "\n",
        "precision, recall, threshold = precision_recall_curve(y_test, PosProb)\n",
        "pr_auc = auc(recall,precision)\n",
        "\n",
        "fig, ax = plt.subplots()\n",
        "ax.plot(recall, precision, color='purple',label='Precision-Recall Curve (area = %0.4f)' % pr_auc)\n",
        "plt.legend(loc=\"lower right\")\n",
        "#add axis labels to plot\n",
        "ax.set_title('Precision-Recall Curve')\n",
        "ax.set_ylabel('Precision')\n",
        "ax.set_xlabel('Recall')\n",
        "\n",
        "#display plot\n",
        "plt.show()"
      ]
    },
    {
      "cell_type": "markdown",
      "source": [
        "Стало хуже."
      ],
      "metadata": {
        "id": "W0wqrqShfI5Z"
      }
    },
    {
      "cell_type": "markdown",
      "metadata": {
        "id": "rwAkGS173gk2"
      },
      "source": [
        "## Часть 3. Оценка экономического эффекта модели (2 балла)\n",
        "\n",
        "В данной части мы займемся тем, что от вас скорее всего потребуется на реальной работе. А именно: мы будем считать некоторые метрики и с их помощью попытаемся настроить модель на максимизацию _прибыли_. Разумеется, здесь будет сделано множество упрощающих жизнь допущений, но обо всем по порядку. \n",
        "\n",
        "__Задание 8 (1 балл).__ Допустим, работники вашего колл-центра получают за один звонок клиенту 1 доллар. При согласии клиента на предлагаемые условия он принесет в банк 10 долларов.\n",
        "\n",
        "\n",
        "=== Краткий курс экономики от ФКН 👒===\n",
        "\n",
        "   - Если вы всё прослушали на экономике, то напомним, что выручка — это сколько денег нам принесли клиенты, а прибыль — выручка за вычетом расходов на зарплату и прочее.\n",
        "\n",
        "=== Конец краткого курса экономики от ФКН 👒 ===\n",
        "\n",
        "Загрузите данные о телемаркетинге из предыдущего блока заданий. В этой части не нужно делить выборку - мы будем использовать кросс-валидацию. Используйте 5 фолдов, сделайте `shuffle=True, random_state=500`. По кросс-валидации у вас получится 5 вариантов обучающей и тестовой выборки. Обучите логистическую регрессию на каждой обучающей выборке (воспользуйтесь one-hot для категориальных признаков, гиперпараметры оставьте со значениями по умолчанию) и сделайте предсказания для соответствующих тестовых выборок. Допустим, всем положительным прогнозам ваши сотрудники решили позвонить. Посчитайте на всех тестовых выборках выручку и усредните. Сколько денег вы в среднем заработаете? Также вычислите стандартное отклонение.\n",
        "\n",
        "Сколько из заработанных денег придётся отдать операторам вашего колл-центра?"
      ]
    },
    {
      "cell_type": "code",
      "execution_count": 150,
      "metadata": {
        "id": "8vl7Df6K3gk2"
      },
      "outputs": [],
      "source": [
        "#╰( ͡° ͜ʖ ͡° )つ──☆*:・ﾟ"
      ]
    },
    {
      "cell_type": "markdown",
      "metadata": {
        "id": "7Ic9X6iS3gk2"
      },
      "source": [
        "Внесем некоторую долю случайности. Пусть теперь согласный на условия клиент будет приносить не 10 долларов, а случайную величину, равномерно распределенную в интервале $[0;20)$. Проделайте все те же самые действия. Для имитации реальной ситуации **НЕ** фиксируйте `random_seed` при подсчете выручки с клиента. Что получилось?"
      ]
    },
    {
      "cell_type": "code",
      "execution_count": 151,
      "metadata": {
        "id": "44vlO_y73gk2"
      },
      "outputs": [],
      "source": [
        "#╰( ͡° ͜ʖ ͡° )つ──☆*:・ﾟ"
      ]
    },
    {
      "cell_type": "markdown",
      "metadata": {
        "id": "kl39uC793gk3"
      },
      "source": [
        "Настройте по кросс-валидации коэффициент регуляризации модели для максимизации прибыли (считайте как случайную величину выше). Удалось ли получить какой-то выигрыш? При каком коэффициенте регуляризациии прибыль максимальна? Постройте график зависимости ожидаемой прибыли от коэффициента, также укажите стандартные отклонения (вам поможет `plt.errorbar`)."
      ]
    },
    {
      "cell_type": "code",
      "execution_count": 152,
      "metadata": {
        "id": "HeYnY9g43gk3"
      },
      "outputs": [],
      "source": [
        "#╰( ͡° ͜ʖ ͡° )つ──☆*:・ﾟ"
      ]
    },
    {
      "cell_type": "markdown",
      "metadata": {
        "id": "rO_YH_Aa3gk3"
      },
      "source": [
        "__Задание 9 (1 балл).__ Выше мы уже описали примерную экономическую модель вашей задачи. Как вы считаете, что для этого бизнеса важнее — хороший precision или recall модели? Почему?\n",
        "\n",
        "__Ответ:__\n",
        "\n"
      ]
    },
    {
      "cell_type": "markdown",
      "metadata": {
        "id": "XzzBU6Xy3gk3"
      },
      "source": [
        "Вспомним, что на самом деле логистическая регрессия предсказывает вероятности положительного класса для объекта. Возможно, путем настройки порога бинаризации этих вероятностей мы сможем получить какой-то выигрыш? Проверьте ваши рассуждения выше с помощью настройки порога бинаризации на кросс-валидации для максимизации прибыли. Воспользуйтесь сеткой от 0 до 1 с шагом 0.01. Напомним, что снижение порога дает нам более высокий recall и более низкий precision, и наоборот."
      ]
    },
    {
      "cell_type": "code",
      "execution_count": 153,
      "metadata": {
        "id": "JNtZujLk3gk3"
      },
      "outputs": [],
      "source": [
        "#╰( ͡° ͜ʖ ͡° )つ──☆*:・ﾟ"
      ]
    },
    {
      "cell_type": "markdown",
      "metadata": {
        "id": "Vhbg718C3gk3"
      },
      "source": [
        "Каковы значения precision и recall на выбранном пороге? Оцените по кросс-валидации. Также вычислите стандартное отклонение."
      ]
    },
    {
      "cell_type": "code",
      "execution_count": 154,
      "metadata": {
        "id": "tOVrnskg3gk4"
      },
      "outputs": [],
      "source": [
        "#╰( ͡° ͜ʖ ͡° )つ──☆*:・ﾟ"
      ]
    },
    {
      "cell_type": "markdown",
      "metadata": {
        "id": "HuNzR6Me3gk4"
      },
      "source": [
        "Как вы, вероятно, уже поняли, ваша модель склоняется к более высокому recall. Попробуйте оценить качество модели с помощью `PR-AUC` в зоне recall $\\geq$ 0.5. Сделайте это следующим образом - выберите только те пороги, на которых достигается необходимый recall, затем интерпретируйте отсеченный в единичном квадрате прямоугольник как новый единичный квадрат и посчитайте площадь под отсеченной кривой. "
      ]
    },
    {
      "cell_type": "code",
      "execution_count": 155,
      "metadata": {
        "id": "1wK9qQqn3gk4"
      },
      "outputs": [],
      "source": [
        "#╰( ͡° ͜ʖ ͡° )つ──☆*:・ﾟ"
      ]
    },
    {
      "cell_type": "markdown",
      "metadata": {
        "id": "I9SzZ1qZ3gk4"
      },
      "source": [
        "__Бонус (1 балл):__ чтобы получить 1 балл, вставьте что угодно в ячейку ниже. Даже можно не ходить в музей.\n",
        "\n",
        "(Бонус может получить только тот, кто решил хотя бы одно задание)."
      ]
    },
    {
      "cell_type": "code",
      "execution_count": 156,
      "metadata": {
        "id": "sJjdPOrf3gk4",
        "colab": {
          "base_uri": "https://localhost:8080/",
          "height": 35
        },
        "outputId": "127e8089-d381-411d-f2dd-dd97e81316a9"
      },
      "outputs": [
        {
          "output_type": "execute_result",
          "data": {
            "text/plain": [
              "'https://www.youtube.com/watch?v=r9w9-9lSBZ4'"
            ],
            "application/vnd.google.colaboratory.intrinsic+json": {
              "type": "string"
            }
          },
          "metadata": {},
          "execution_count": 156
        }
      ],
      "source": [
        "\"Большое спасибо за проверку. Внизу видео для хорошего настроения.)\"\n",
        "\"https://www.youtube.com/watch?v=r9w9-9lSBZ4\""
      ]
    }
  ],
  "metadata": {
    "kernelspec": {
      "display_name": "Python 3 (ipykernel)",
      "language": "python",
      "name": "python3"
    },
    "language_info": {
      "codemirror_mode": {
        "name": "ipython",
        "version": 3
      },
      "file_extension": ".py",
      "mimetype": "text/x-python",
      "name": "python",
      "nbconvert_exporter": "python",
      "pygments_lexer": "ipython3",
      "version": "3.9.12"
    },
    "colab": {
      "provenance": [],
      "collapsed_sections": []
    }
  },
  "nbformat": 4,
  "nbformat_minor": 0
}
